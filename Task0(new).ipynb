{
 "cells": [
  {
   "cell_type": "code",
   "execution_count": 2,
   "metadata": {},
   "outputs": [
    {
     "data": {
      "text/plain": [
       "{'Day 1': 100,\n",
       " 'Day 2': 108,\n",
       " 'Day 3': 112,\n",
       " 'Day 4': 115,\n",
       " 'Day 5': 150,\n",
       " 'Day 6': 178,\n",
       " 'Day 7': 143,\n",
       " 'Day 8': 132,\n",
       " 'Day 9': 190,\n",
       " 'Day 10': 235,\n",
       " 'Day 11': 253,\n",
       " 'Day 12': 298,\n",
       " 'Day 13': 328,\n",
       " 'Day 14': 390,\n",
       " 'Day 15': 257,\n",
       " 'Day 16': 288,\n",
       " 'Day 17': 393,\n",
       " 'Day 18': 425,\n",
       " 'Day 19': 458,\n",
       " 'Day 20': 450,\n",
       " 'Day 21': 473,\n",
       " 'Day 22': 333,\n",
       " 'Day 23': 452,\n",
       " 'Day 24': 490,\n",
       " 'Day 25': 495,\n",
       " 'Day 26': 488,\n",
       " 'Day 27': 543,\n",
       " 'Day 28': 532,\n",
       " 'Day 29': 590,\n",
       " 'Day 30': 605}"
      ]
     },
     "execution_count": 2,
     "metadata": {},
     "output_type": "execute_result"
    }
   ],
   "source": [
    "import numpy as np\n",
    "import matplotlib.pyplot as plt\n",
    "import random\n",
    "%matplotlib inline\n",
    "scores = {\"Day 1\": 100, \"Day 2\": 108, \"Day 3\":112, \"Day 4\":115, \"Day 5\":150,\n",
    "          \"Day 6\":178, \"Day 7\": 143, \"Day 8\": 132, \"Day 9\":190, \"Day 10\": 235,\n",
    "          \"Day 11\":253, \"Day 12\": 298, \"Day 13\": 328, \"Day 14\":390, \"Day 15\": 257,\n",
    "          \"Day 16\":288, \"Day 17\": 393, \"Day 18\": 425, \"Day 19\":458, \"Day 20\": 450,\n",
    "          \"Day 21\":473, \"Day 22\": 333, \"Day 23\": 452, \"Day 24\":490, \"Day 25\": 495,\n",
    "          \"Day 26\":488, \"Day 27\": 543, \"Day 28\": 532, \"Day 29\":590, \"Day 30\": 605}\n",
    "scores\n"
   ]
  },
  {
   "cell_type": "code",
   "execution_count": 3,
   "metadata": {},
   "outputs": [
    {
     "name": "stdout",
     "output_type": "stream",
     "text": [
      "[ 1  2  3  4  5  6  7  8  9 10 11 12 13 14 15 16 17 18 19 20 21 22 23 24\n",
      " 25 26 27 28 29 30]\n"
     ]
    }
   ],
   "source": [
    "Days = np.arange(1,31)\n",
    "print(Days)"
   ]
  },
  {
   "cell_type": "code",
   "execution_count": 4,
   "metadata": {},
   "outputs": [
    {
     "data": {
      "text/plain": [
       "[100,\n",
       " 108,\n",
       " 112,\n",
       " 115,\n",
       " 150,\n",
       " 178,\n",
       " 143,\n",
       " 132,\n",
       " 190,\n",
       " 235,\n",
       " 253,\n",
       " 298,\n",
       " 328,\n",
       " 390,\n",
       " 257,\n",
       " 288,\n",
       " 393,\n",
       " 425,\n",
       " 458,\n",
       " 450,\n",
       " 473,\n",
       " 333,\n",
       " 452,\n",
       " 490,\n",
       " 495,\n",
       " 488,\n",
       " 543,\n",
       " 532,\n",
       " 590,\n",
       " 605]"
      ]
     },
     "execution_count": 4,
     "metadata": {},
     "output_type": "execute_result"
    }
   ],
   "source": [
    "scores_x = list(scores.values())\n",
    "scores_x"
   ]
  },
  {
   "cell_type": "code",
   "execution_count": 5,
   "metadata": {},
   "outputs": [],
   "source": [
    "Days_y = [1,2,3,4,5,6,7,8,9,10,11,12,13,14,15,16,17,18,19,20,21,22,23,24,25,26,27,28,29,30]"
   ]
  },
  {
   "cell_type": "code",
   "execution_count": 21,
   "metadata": {},
   "outputs": [
    {
     "data": {
      "image/png": "[encoded data removed]",
      "text/plain": [
       "<Figure size 432x288 with 1 Axes>"
      ]
     },
     "metadata": {},
     "output_type": "display_data"
    }
   ],
   "source": [
    "plt.plot(scores_x,Days_y)\n",
    "plt.xlabel('Scores')\n",
    "plt.ylabel('Days')\n",
    "\n",
    "plt.title('Scores vs Days graph')\n",
    "\n",
    "plt.grid(True)\n",
    "\n",
    "plt.style.use('fivethirtyeight')\n"
   ]
  },
  {
   "cell_type": "code",
   "execution_count": 7,
   "metadata": {},
   "outputs": [
    {
     "data": {
      "text/plain": [
       "333.46666666666664"
      ]
     },
     "execution_count": 7,
     "metadata": {},
     "output_type": "execute_result"
    }
   ],
   "source": [
    "np.mean(scores_x)"
   ]
  },
  {
   "cell_type": "code",
   "execution_count": 8,
   "metadata": {},
   "outputs": [
    {
     "data": {
      "text/plain": [
       "330.5"
      ]
     },
     "execution_count": 8,
     "metadata": {},
     "output_type": "execute_result"
    }
   ],
   "source": [
    "np.median(scores_x)"
   ]
  },
  {
   "cell_type": "code",
   "execution_count": 9,
   "metadata": {},
   "outputs": [
    {
     "data": {
      "text/plain": [
       "605"
      ]
     },
     "execution_count": 9,
     "metadata": {},
     "output_type": "execute_result"
    }
   ],
   "source": [
    "np.max(scores_x)"
   ]
  },
  {
   "cell_type": "code",
   "execution_count": 10,
   "metadata": {},
   "outputs": [
    {
     "data": {
      "text/plain": [
       "100"
      ]
     },
     "execution_count": 10,
     "metadata": {},
     "output_type": "execute_result"
    }
   ],
   "source": [
    "np.min(scores_x)"
   ]
  },
  {
   "cell_type": "code",
   "execution_count": null,
   "metadata": {},
   "outputs": [],
   "source": []
  }
 ],
 "metadata": {
  "kernelspec": {
   "display_name": "Python 3",
   "language": "python",
   "name": "python3"
  },
  "language_info": {
   "codemirror_mode": {
    "name": "ipython",
    "version": 3
   },
   "file_extension": ".py",
   "mimetype": "text/x-python",
   "name": "python",
   "nbconvert_exporter": "python",
   "pygments_lexer": "ipython3",
   "version": "3.7.3"
  }
 },
 "nbformat": 4,
 "nbformat_minor": 4
}
